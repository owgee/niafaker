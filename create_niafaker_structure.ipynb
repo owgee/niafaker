{
 "cells": [
  {
   "cell_type": "code",
   "execution_count": 1,
   "id": "5cf784c1-c1bf-4a55-a403-407baecef7ec",
   "metadata": {},
   "outputs": [
    {
     "name": "stdout",
     "output_type": "stream",
     "text": [
      "Project structure created successfully.\n"
     ]
    }
   ],
   "source": [
    "import os\n",
    "\n",
    "# Define the folder structure\n",
    "folders = [\n",
    "    'NiaFaker/niafaker/data',\n",
    "    'NiaFaker/niafaker/generators',\n",
    "    'NiaFaker/tests'\n",
    "]\n",
    "\n",
    "# Define the files\n",
    "files = [\n",
    "    'NiaFaker/niafaker/__init__.py',\n",
    "    'NiaFaker/niafaker/generators/__init__.py',\n",
    "    'NiaFaker/niafaker/generators/names.py',\n",
    "    'NiaFaker/niafaker/generators/cities.py',\n",
    "    'NiaFaker/niafaker/generators/addresses.py',\n",
    "    'NiaFaker/tests/__init__.py',\n",
    "    'NiaFaker/tests/test_names.py',\n",
    "    'NiaFaker/tests/test_cities.py',\n",
    "    'NiaFaker/tests/test_addresses.py',\n",
    "    'NiaFaker/setup.py',\n",
    "    'NiaFaker/README.md'\n",
    "]\n",
    "\n",
    "# Create the folders\n",
    "for folder in folders:\n",
    "    os.makedirs(folder, exist_ok=True)\n",
    "\n",
    "# Create the files\n",
    "for filepath in files:\n",
    "    open(filepath, 'w').close()\n",
    "\n",
    "print(\"Project structure created successfully.\")\n"
   ]
  }
 ],
 "metadata": {
  "kernelspec": {
   "display_name": "Python 3 (ipykernel)",
   "language": "python",
   "name": "python3"
  },
  "language_info": {
   "codemirror_mode": {
    "name": "ipython",
    "version": 3
   },
   "file_extension": ".py",
   "mimetype": "text/x-python",
   "name": "python",
   "nbconvert_exporter": "python",
   "pygments_lexer": "ipython3",
   "version": "3.11.5"
  }
 },
 "nbformat": 4,
 "nbformat_minor": 5
}
